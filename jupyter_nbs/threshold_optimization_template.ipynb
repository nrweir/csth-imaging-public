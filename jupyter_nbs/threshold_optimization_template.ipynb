{
 "cells": [
  {
   "cell_type": "markdown",
   "metadata": {},
   "source": [
    "# Workbook for optimizing foci segmentation thresholds\n",
    "\n",
    "This workbook provides step-by-step instructions for determining segmentation thresholds for identifying foci within cells. __Do not edit this workbook file directly!__ Make a copy for each optimization that you perform and edit that version. Save this template in an unedited form for future experiments.\n",
    "\n",
    "This workbook uses a built-in \"optimization mode\" that only pulls the first three images out of multi-image .czi files to dramatically speed up processing. This will allow you to tinker with thresholds and find the ideal cutoffs.\n",
    "\n",
    "I found that the most effective way to define these cutoffs was to use a positive control image - one where there were many foci - and a negative control image with few to no foci to set the thresholds. This allows you to identify cutoffs that simultaneously maximize sensitivity while minimizing false positives.\n",
    "\n",
    "__Before running this notebook, you must have completed the setup notebook in the install folder.__"
   ]
  },
  {
   "cell_type": "code",
   "execution_count": null,
   "metadata": {
    "collapsed": true
   },
   "outputs": [],
   "source": [
    "# import required code\n",
    "from csth_analysis import find_cells, segment_cells, foci\n",
    "import os"
   ]
  },
  {
   "cell_type": "markdown",
   "metadata": {},
   "source": [
    "The cell below defines the file paths for the files you will need during this process. Change each variable as needed."
   ]
  },
  {
   "cell_type": "code",
   "execution_count": null,
   "metadata": {
    "collapsed": true
   },
   "outputs": [],
   "source": [
    "neg_ctrl_czi = '/path/to/neg/ctrl/file.czi'\n",
    "pos_ctrl_czi = '/path/to/pos/ctrl/file.czi'\n",
    "neg_empty_field_czi = '/path/to/neg/empty/field/file.czi'\n",
    "pos_empty_field_czi = '/path/to/pos/empty/field/file.czi'\n",
    "svm_pkl = '/path/to/csth-imaging/trained_svm.pkl' # change /path/to/ so it points to the csth-imaging folder"
   ]
  },
  {
   "cell_type": "markdown",
   "metadata": {},
   "source": [
    "Now that you have defined the important variables, you will perform pre-processing. This takes the following steps:\n",
    "1. Load images\n",
    "2. Identify regions of the field containing cells\n",
    "3. Identify nuclei\n",
    "4. Segment cells  \n",
    "    _Note:_ By default this segments cells using the 488 wavelength. Change 488 to your desired wavelength in the splitter.segment_cells() command to change wavelengths.\n",
    "5. Initialize foci detection object.\n",
    "\n",
    "The steps are indicated in the code blocks."
   ]
  },
  {
   "cell_type": "code",
   "execution_count": null,
   "metadata": {
    "collapsed": true
   },
   "outputs": [],
   "source": [
    "## NOTE: RUNNING THIS CELL WILL TAKE A WHILE! DON'T BE CONCERNED! ##\n",
    "\n",
    "# 1. load images and the trained SVM focus classifier, and 2.\n",
    "neg_ctrl_finder = find_cells.MultiFinder(filename=neg_ctrl_czi,\n",
    "                                         bg_filename=empty_field_czi,\n",
    "                                         oof_svm=svm_pkl,\n",
    "                                         optim=True)\n",
    "pos_ctrl_finder = find_cells.MultiFinder(filename=pos_ctrl_czi,\n",
    "                                         bg_filename=empty_field_czi,\n",
    "                                         oof_svm=svm_pkl,\n",
    "                                         optim=True)\n",
    "print('MultiFinder created.')\n",
    "\n",
    "# 2. find cells\n",
    "neg_ctrl_splitter = segment_cells.CellSplitter(neg_ctrl_finder)\n",
    "pos_ctrl_splitter = segment_cells.CellSplitter(pos_ctrl_finder)\n",
    "\n",
    "# 3. identify nuclei\n",
    "neg_ctrl_splitter.segment_nuclei(verbose=True)\n",
    "pos_ctrl_splitter.segment_nuclei(verbose=True)\n",
    "\n",
    "# 4. Segment cells.\n",
    "neg_ctrl_splitter.segment_cells(488, verbose=True)\n",
    "pos_ctrl_splitter.segment_cells(488, verbose=True)\n",
    "\n",
    "# 5. Initialize foci detection objects.\n",
    "neg_foci = foci.Foci(neg_ctrl_splitter, verbose=True)\n",
    "pos_foci = foci.Foci(pos_ctrl_splitter, verbose=True)"
   ]
  },
  {
   "cell_type": "markdown",
   "metadata": {},
   "source": [
    "Next, you're ready to try segmenting foci and checking the output to see if it looks correct.\n",
    "\n",
    "A bit of background on how Canny edge detection works so you can logically select values. There are two threshold numbers that go into detecting foci:\n",
    "- high threshold: the minimum edge intensity to _seed_ a new object. The entire object doesn't have to have an edge this sharp, but if no part of it does, it won't be identified.\n",
    "- low threshold: the minimum edge intensity to _grow_ an object. If one point already satisfied the high threshold, it can grow even if it has a dimmer edge as long as that dimmer edge is above the low threshold.  \n",
    "\n",
    "If this doesn't make sense, read about the Canny edge detection algorithm on Wikipedia or elsewhere.\n",
    "\n",
    "I often start with values of 10,000 and 7,500 for the high and low thresholds respectively, so those are the default values below.\n",
    "\n",
    "Running the code block below will perform segmentation and save the raw images as well as the segmented foci to the output_dir you select in the first line. You can then open these images in fiji, overlay the segmented foci onto the raw images, and determine if the threshold is too high/too low. The code will also output some descriptive information about the number of dots, their intensities, etc. which may be useful to you in deciding thresholds."
   ]
  },
  {
   "cell_type": "code",
   "execution_count": null,
   "metadata": {
    "collapsed": true
   },
   "outputs": [],
   "source": [
    "from skimage import io  # for saving images\n",
    "output_dir = '/path/to/images/'  # change this to where you'd like the output images to go.\n",
    "if not os.path.isdir(output_dir):\n",
    "    os.mkdir(output_dir)\n",
    "# save raw images\n",
    "for c in pos_foci.channels:  # for each channel\n",
    "    if c == 405:\n",
    "        continue\n",
    "    for im in range(0, pos_foci.imgs[c].shape[0]):  # for each image in that channel\n",
    "        io.imsave(output_dir + 'pos_raw_' + str(c) + '_' + str(im) + '.tif',\n",
    "                 pos_foci.imgs[c][im, :, :, :])\n",
    "for c in neg_foci.channels:  # for each channel\n",
    "    if c == 405:\n",
    "        continue\n",
    "    for im in range(0, neg_foci.imgs[c].shape[0]):  # for each image in that channel\n",
    "        io.imsave(output_dir + 'neg_raw_' + str(c) + '_' + str(im) + '.tif',\n",
    "                 neg_foci.imgs[c][im, :, :, :])        "
   ]
  },
  {
   "cell_type": "markdown",
   "metadata": {},
   "source": [
    "## The following cell is for running segmentation on both channels."
   ]
  },
  {
   "cell_type": "code",
   "execution_count": null,
   "metadata": {
    "collapsed": true
   },
   "outputs": [],
   "source": [
    "# edit the (high, low) threshold pairs below to optimize segmentation.\n",
    "green_thresholds = (10000, 7500) \n",
    "red_thresholds = (10000, 7500)\n",
    "# perform segmentation\n",
    "neg_foci.segment(verbose=True, thresholds={488: green_thresholds,\n",
    "                                          561: red_thresholds})\n",
    "pos_foci.segment(verbose=True, thresholds={488: green_thresholds,\n",
    "                                          561: red_thresholds})\n",
    "# save segmentation outputs\n",
    "for c in pos_foci.channels:  # for each channel\n",
    "    if c == 405:\n",
    "        continue\n",
    "    for im in range(0, len(pos_foci.foci[c])):  # for each image in that channel\n",
    "        io.imsave(output_dir + 'pos_foci_' + str(c) + '_' + str(im) + '.tif',\n",
    "                 pos_foci.foci[c][im])\n",
    "for c in neg_foci.channels:  # for each channel\n",
    "    if c == 405:\n",
    "        continue\n",
    "    for im in range(0, len(neg_foci.foci[c])):  # for each image in that channel\n",
    "        io.imsave(output_dir + 'neg_foci_' + str(c) + '_' + str(im) + '.tif',\n",
    "                 neg_foci.foci[c][im])"
   ]
  },
  {
   "cell_type": "markdown",
   "metadata": {},
   "source": [
    "Edit the thresholds in the cell above and re-run as needed until you reach ideal thresholds."
   ]
  },
  {
   "cell_type": "markdown",
   "metadata": {},
   "source": [
    "## The following cell is for running segmentation on just one channel."
   ]
  },
  {
   "cell_type": "code",
   "execution_count": null,
   "metadata": {
    "collapsed": true
   },
   "outputs": [],
   "source": [
    "desired_channel = 488  # change this to 488 for green or 561 for red\n",
    "# edit the (high, low) threshold pair below to optimize segmentation.\n",
    "thresholds = (10000, 7500) \n",
    "# perform segmentation\n",
    "neg_foci.segment(verbose=True, thresholds={desired_channel: thresholds},\n",
    "                 seg_channels=(desired_channel))\n",
    "pos_foci.segment(verbose=True, thresholds={desired_channel: thresholds},\n",
    "                 seg_channels=(desired_channel))\n",
    "# save segmentation outputs\n",
    "for im in range(0, len(pos_foci.foci[desired_channel])):  # for each image in that channel\n",
    "    io.imsave(output_dir + 'pos_foci_' + str(desired_channel) + '_' + str(im) + '.tif',\n",
    "             pos_foci.foci[desired_channel][im])\n",
    "for im in range(0, len(neg_foci.foci[desired_channel])):  # for each image in that channel\n",
    "    io.imsave(output_dir + 'neg_foci_' + str(desired_channel) + '_' + str(im) + '.tif',\n",
    "             neg_foci.foci[desired_channel][im])"
   ]
  }
 ],
 "metadata": {
  "kernelspec": {
   "display_name": "Python 3",
   "language": "python",
   "name": "python3"
  },
  "language_info": {
   "codemirror_mode": {
    "name": "ipython",
    "version": 3
   },
   "file_extension": ".py",
   "mimetype": "text/x-python",
   "name": "python",
   "nbconvert_exporter": "python",
   "pygments_lexer": "ipython3",
   "version": "3.6.1"
  }
 },
 "nbformat": 4,
 "nbformat_minor": 2
}
