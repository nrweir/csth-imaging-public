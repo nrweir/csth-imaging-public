{
 "cells": [
  {
   "cell_type": "markdown",
   "metadata": {},
   "source": [
    "# Installation and setup notebook for the CS/TH imaging analysis package\n",
    "\n",
    "This notebook, using Python 3 code, will help you to set up the imaging analysis package to run on your local system. A separate notebook (not yet written as of 9.14.17) will instruct you on how to set it up to run on the Odyssey cluster.\n",
    "\n",
    "__This notebook assumes you have already acquired the package from GitHub using the instructions provided in readme.md in this package.__\n",
    "\n",
    "- To get this package up and running locally, you will need to make sure you have the full list of prerequisite packages for csth-imaging installed on your system. You can find this list in the csth-imaging/dependencies folder. Most of these will already be present if you're using an Anaconda-based python distribution. You can skip this step for now if so.\n",
    "- As noted in readme.md for this package, the version of javabridge installed via PyPI/pip/Anaconda has a bug that prevents czi processing from working. You will need to install the new version at the link to make it work.\n",
    "- The two .py scripts in the csth-imaging/dependencies folder are essential scripts for czi import. The code cell below will help you copy these files into your python path so they can be imported smoothly."
   ]
  },
  {
   "cell_type": "code",
   "execution_count": 1,
   "metadata": {},
   "outputs": [
    {
     "data": {
      "text/plain": [
       "['',\n",
       " '/usr/local/Cellar/python3/3.6.1/Frameworks/Python.framework/Versions/3.6/lib/python36.zip',\n",
       " '/usr/local/Cellar/python3/3.6.1/Frameworks/Python.framework/Versions/3.6/lib/python3.6',\n",
       " '/usr/local/Cellar/python3/3.6.1/Frameworks/Python.framework/Versions/3.6/lib/python3.6/lib-dynload',\n",
       " '/Users/nweir/Library/Python/3.6/lib/python/site-packages',\n",
       " '/usr/local/lib/python3.6/site-packages',\n",
       " '/usr/local/lib/python3.6/site-packages/IPython/extensions',\n",
       " '/Users/nweir/.ipython']"
      ]
     },
     "execution_count": 1,
     "metadata": {},
     "output_type": "execute_result"
    }
   ],
   "source": [
    "# run this cell\n",
    "import os\n",
    "import sys\n",
    "sys.path"
   ]
  },
  {
   "cell_type": "markdown",
   "metadata": {
    "collapsed": true
   },
   "source": [
    "Next, copy the two .py scripts in the csth-imaging/dependencies folder into one of the folders listed above. If one of the folders listed is '/usr/local/lib/python3.x/site-packages', I recommend copying into that one; however, any of them will work.  \n",
    "\n",
    "You can do this manually or by changing the paths in the following code cell to point to the correct directory and running it.  \n",
    "\n",
    "For example, change \n",
    "\n",
    "/change/this/to/the/path/you/want/czifile.py  \n",
    "\n",
    "to  \n",
    "\n",
    "/usr/local/lib/python3.6/site-packages/czifile.py   \n",
    "\n",
    "if that directory is listed above.  "
   ]
  },
  {
   "cell_type": "code",
   "execution_count": null,
   "metadata": {
    "collapsed": true
   },
   "outputs": [],
   "source": [
    "!cd ..\n",
    "!cp dependencies/czifile.py /change/this/to/the/path/you/want/czifile.py\n",
    "!cp dependencies/tifffile.py /change/this/to/the/path/you/want/tifffile.py"
   ]
  },
  {
   "cell_type": "markdown",
   "metadata": {},
   "source": [
    "Next, you'll need to copy the python package component of this distribution (the csth_analysis directory) into your pythonpath. To do so, copy that folder manually into your pythonpath or run the following code cell."
   ]
  },
  {
   "cell_type": "code",
   "execution_count": null,
   "metadata": {
    "collapsed": true
   },
   "outputs": [],
   "source": [
    "!cd install\n",
    "!cd ..\n",
    "!cp -r csth_analysis /change/this/to/your/python/path/"
   ]
  },
  {
   "cell_type": "markdown",
   "metadata": {},
   "source": [
    "__Important note:__ You'll need to repeat this last step (copying csth_analysis into your pythonpath) anytime you update the package from github."
   ]
  },
  {
   "cell_type": "markdown",
   "metadata": {},
   "source": [
    "### You're all set!\n",
    "\n",
    "The package is now installed and can be imported into python by running import csth_analysis."
   ]
  }
 ],
 "metadata": {
  "kernelspec": {
   "display_name": "Python 3",
   "language": "python",
   "name": "python3"
  },
  "language_info": {
   "codemirror_mode": {
    "name": "ipython",
    "version": 3
   },
   "file_extension": ".py",
   "mimetype": "text/x-python",
   "name": "python",
   "nbconvert_exporter": "python",
   "pygments_lexer": "ipython3",
   "version": "3.6.1"
  }
 },
 "nbformat": 4,
 "nbformat_minor": 2
}
